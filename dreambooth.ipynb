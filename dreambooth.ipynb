{
 "cells": [
  {
   "cell_type": "code",
   "execution_count": 1,
   "metadata": {},
   "outputs": [
    {
     "name": "stdout",
     "output_type": "stream",
     "text": [
      "Collecting git+https://github.com/huggingface/diffusers\n",
      "  Cloning https://github.com/huggingface/diffusers to /tmp/pip-req-build-2w07b0xl\n",
      "  Running command git clone --filter=blob:none --quiet https://github.com/huggingface/diffusers /tmp/pip-req-build-2w07b0xl\n",
      "  Resolved https://github.com/huggingface/diffusers to commit 74fd735eb073eb1d774b1ab4154a0876eb82f055\n",
      "  Installing build dependencies ... \u001b[?25ldone\n",
      "\u001b[?25h  Getting requirements to build wheel ... \u001b[?25ldone\n",
      "\u001b[?25h  Preparing metadata (pyproject.toml) ... \u001b[?25ldone\n",
      "\u001b[?25hRequirement already satisfied: huggingface-hub>=0.13.2 in /opt/conda/envs/pytorch/lib/python3.9/site-packages (from diffusers==0.17.0.dev0) (0.15.1)\n",
      "Requirement already satisfied: numpy in /opt/conda/envs/pytorch/lib/python3.9/site-packages (from diffusers==0.17.0.dev0) (1.24.3)\n",
      "Requirement already satisfied: filelock in /opt/conda/envs/pytorch/lib/python3.9/site-packages (from diffusers==0.17.0.dev0) (3.6.0)\n",
      "Requirement already satisfied: importlib-metadata in /opt/conda/envs/pytorch/lib/python3.9/site-packages (from diffusers==0.17.0.dev0) (4.13.0)\n",
      "Requirement already satisfied: Pillow in /opt/conda/envs/pytorch/lib/python3.9/site-packages (from diffusers==0.17.0.dev0) (9.5.0)\n",
      "Requirement already satisfied: requests in /opt/conda/envs/pytorch/lib/python3.9/site-packages (from diffusers==0.17.0.dev0) (2.31.0)\n",
      "Requirement already satisfied: regex!=2019.12.17 in /opt/conda/envs/pytorch/lib/python3.9/site-packages (from diffusers==0.17.0.dev0) (2023.6.3)\n",
      "Requirement already satisfied: packaging>=20.9 in /opt/conda/envs/pytorch/lib/python3.9/site-packages (from huggingface-hub>=0.13.2->diffusers==0.17.0.dev0) (21.3)\n",
      "Requirement already satisfied: tqdm>=4.42.1 in /opt/conda/envs/pytorch/lib/python3.9/site-packages (from huggingface-hub>=0.13.2->diffusers==0.17.0.dev0) (4.63.2)\n",
      "Requirement already satisfied: fsspec in /opt/conda/envs/pytorch/lib/python3.9/site-packages (from huggingface-hub>=0.13.2->diffusers==0.17.0.dev0) (2023.5.0)\n",
      "Requirement already satisfied: pyyaml>=5.1 in /opt/conda/envs/pytorch/lib/python3.9/site-packages (from huggingface-hub>=0.13.2->diffusers==0.17.0.dev0) (6.0)\n",
      "Requirement already satisfied: typing-extensions>=3.7.4.3 in /opt/conda/envs/pytorch/lib/python3.9/site-packages (from huggingface-hub>=0.13.2->diffusers==0.17.0.dev0) (4.6.2)\n",
      "Requirement already satisfied: zipp>=0.5 in /opt/conda/envs/pytorch/lib/python3.9/site-packages (from importlib-metadata->diffusers==0.17.0.dev0) (3.15.0)\n",
      "Requirement already satisfied: certifi>=2017.4.17 in /opt/conda/envs/pytorch/lib/python3.9/site-packages (from requests->diffusers==0.17.0.dev0) (2023.5.7)\n",
      "Requirement already satisfied: idna<4,>=2.5 in /opt/conda/envs/pytorch/lib/python3.9/site-packages (from requests->diffusers==0.17.0.dev0) (3.4)\n",
      "Requirement already satisfied: charset-normalizer<4,>=2 in /opt/conda/envs/pytorch/lib/python3.9/site-packages (from requests->diffusers==0.17.0.dev0) (3.1.0)\n",
      "Requirement already satisfied: urllib3<3,>=1.21.1 in /opt/conda/envs/pytorch/lib/python3.9/site-packages (from requests->diffusers==0.17.0.dev0) (1.26.15)\n",
      "Requirement already satisfied: pyparsing!=3.0.5,>=2.0.2 in /opt/conda/envs/pytorch/lib/python3.9/site-packages (from packaging>=20.9->huggingface-hub>=0.13.2->diffusers==0.17.0.dev0) (3.0.9)\n"
     ]
    }
   ],
   "source": [
    "!pip install git+https://github.com/huggingface/diffusers\n",
    "!pip install -qq accelerate transformers ftfy"
   ]
  },
  {
   "cell_type": "code",
   "execution_count": 2,
   "metadata": {},
   "outputs": [
    {
     "name": "stdout",
     "output_type": "stream",
     "text": [
      "Requirement already satisfied: xformers in /opt/conda/envs/pytorch/lib/python3.9/site-packages (0.0.20)\n",
      "Requirement already satisfied: numpy in /opt/conda/envs/pytorch/lib/python3.9/site-packages (from xformers) (1.24.3)\n",
      "Requirement already satisfied: torch==2.0.1 in /opt/conda/envs/pytorch/lib/python3.9/site-packages (from xformers) (2.0.1)\n",
      "Requirement already satisfied: pyre-extensions==0.0.29 in /opt/conda/envs/pytorch/lib/python3.9/site-packages (from xformers) (0.0.29)\n",
      "Requirement already satisfied: typing-inspect in /opt/conda/envs/pytorch/lib/python3.9/site-packages (from pyre-extensions==0.0.29->xformers) (0.9.0)\n",
      "Requirement already satisfied: typing-extensions in /opt/conda/envs/pytorch/lib/python3.9/site-packages (from pyre-extensions==0.0.29->xformers) (4.6.2)\n",
      "Requirement already satisfied: networkx in /opt/conda/envs/pytorch/lib/python3.9/site-packages (from torch==2.0.1->xformers) (3.1)\n",
      "Requirement already satisfied: nvidia-cufft-cu11==10.9.0.58 in /opt/conda/envs/pytorch/lib/python3.9/site-packages (from torch==2.0.1->xformers) (10.9.0.58)\n",
      "Requirement already satisfied: nvidia-cusolver-cu11==11.4.0.1 in /opt/conda/envs/pytorch/lib/python3.9/site-packages (from torch==2.0.1->xformers) (11.4.0.1)\n",
      "Requirement already satisfied: nvidia-cusparse-cu11==11.7.4.91 in /opt/conda/envs/pytorch/lib/python3.9/site-packages (from torch==2.0.1->xformers) (11.7.4.91)\n",
      "Requirement already satisfied: jinja2 in /opt/conda/envs/pytorch/lib/python3.9/site-packages (from torch==2.0.1->xformers) (3.1.2)\n",
      "Requirement already satisfied: nvidia-cuda-cupti-cu11==11.7.101 in /opt/conda/envs/pytorch/lib/python3.9/site-packages (from torch==2.0.1->xformers) (11.7.101)\n",
      "Requirement already satisfied: filelock in /opt/conda/envs/pytorch/lib/python3.9/site-packages (from torch==2.0.1->xformers) (3.6.0)\n",
      "Requirement already satisfied: nvidia-cublas-cu11==11.10.3.66 in /opt/conda/envs/pytorch/lib/python3.9/site-packages (from torch==2.0.1->xformers) (11.10.3.66)\n",
      "Requirement already satisfied: nvidia-nccl-cu11==2.14.3 in /opt/conda/envs/pytorch/lib/python3.9/site-packages (from torch==2.0.1->xformers) (2.14.3)\n",
      "Requirement already satisfied: nvidia-cudnn-cu11==8.5.0.96 in /opt/conda/envs/pytorch/lib/python3.9/site-packages (from torch==2.0.1->xformers) (8.5.0.96)\n",
      "Requirement already satisfied: nvidia-curand-cu11==10.2.10.91 in /opt/conda/envs/pytorch/lib/python3.9/site-packages (from torch==2.0.1->xformers) (10.2.10.91)\n",
      "Requirement already satisfied: nvidia-cuda-runtime-cu11==11.7.99 in /opt/conda/envs/pytorch/lib/python3.9/site-packages (from torch==2.0.1->xformers) (11.7.99)\n",
      "Requirement already satisfied: triton==2.0.0 in /opt/conda/envs/pytorch/lib/python3.9/site-packages (from torch==2.0.1->xformers) (2.0.0)\n",
      "Requirement already satisfied: nvidia-nvtx-cu11==11.7.91 in /opt/conda/envs/pytorch/lib/python3.9/site-packages (from torch==2.0.1->xformers) (11.7.91)\n",
      "Requirement already satisfied: sympy in /opt/conda/envs/pytorch/lib/python3.9/site-packages (from torch==2.0.1->xformers) (1.12)\n",
      "Requirement already satisfied: nvidia-cuda-nvrtc-cu11==11.7.99 in /opt/conda/envs/pytorch/lib/python3.9/site-packages (from torch==2.0.1->xformers) (11.7.99)\n",
      "Requirement already satisfied: wheel in /opt/conda/envs/pytorch/lib/python3.9/site-packages (from nvidia-cublas-cu11==11.10.3.66->torch==2.0.1->xformers) (0.40.0)\n",
      "Requirement already satisfied: setuptools in /opt/conda/envs/pytorch/lib/python3.9/site-packages (from nvidia-cublas-cu11==11.10.3.66->torch==2.0.1->xformers) (67.7.2)\n",
      "Requirement already satisfied: cmake in /opt/conda/envs/pytorch/lib/python3.9/site-packages (from triton==2.0.0->torch==2.0.1->xformers) (3.26.3)\n",
      "Requirement already satisfied: lit in /opt/conda/envs/pytorch/lib/python3.9/site-packages (from triton==2.0.0->torch==2.0.1->xformers) (16.0.5.post0)\n",
      "Requirement already satisfied: MarkupSafe>=2.0 in /opt/conda/envs/pytorch/lib/python3.9/site-packages (from jinja2->torch==2.0.1->xformers) (2.1.2)\n",
      "Requirement already satisfied: mpmath>=0.19 in /opt/conda/envs/pytorch/lib/python3.9/site-packages (from sympy->torch==2.0.1->xformers) (1.3.0)\n",
      "Requirement already satisfied: mypy-extensions>=0.3.0 in /opt/conda/envs/pytorch/lib/python3.9/site-packages (from typing-inspect->pyre-extensions==0.0.29->xformers) (1.0.0)\n",
      "Note: you may need to restart the kernel to use updated packages.\n",
      "Requirement already satisfied: bitsandbytes in /opt/conda/envs/pytorch/lib/python3.9/site-packages (0.39.0)\n",
      "Note: you may need to restart the kernel to use updated packages.\n"
     ]
    }
   ],
   "source": [
    "%pip install xformers\n",
    "%pip install bitsandbytes"
   ]
  },
  {
   "cell_type": "code",
   "execution_count": 3,
   "metadata": {},
   "outputs": [
    {
     "name": "stdout",
     "output_type": "stream",
     "text": [
      "Configuration already exists at /home/ubuntu/.cache/huggingface/accelerate/default_config.yaml, will not override. Run `accelerate config` manually or pass a different `save_location`.\n"
     ]
    }
   ],
   "source": [
    "!accelerate config default"
   ]
  },
  {
   "cell_type": "code",
   "execution_count": 4,
   "metadata": {},
   "outputs": [
    {
     "name": "stdout",
     "output_type": "stream",
     "text": [
      "/opt/conda/envs/pytorch/lib/python3.9/site-packages/torchvision/io/image.py:13: UserWarning: Failed to load image Python extension: libtorch_cuda_cu.so: cannot open shared object file: No such file or directory\n",
      "  warn(f\"Failed to load image Python extension: {e}\")\n",
      "/opt/conda/envs/pytorch/lib/python3.9/site-packages/accelerate/accelerator.py:258: FutureWarning: `logging_dir` is deprecated and will be removed in version 0.18.0 of 🤗 Accelerate. Use `project_dir` instead.\n",
      "  warnings.warn(\n",
      "/opt/conda/envs/pytorch/lib/python3.9/site-packages/accelerate/accelerator.py:375: UserWarning: `log_with=tensorboard` was passed but no supported trackers are currently installed.\n",
      "  warnings.warn(f\"`log_with={log_with}` was passed but no supported trackers are currently installed.\")\n",
      "06/07/2023 07:46:44 - INFO - __main__ - Distributed environment: NO\n",
      "Num processes: 1\n",
      "Process index: 0\n",
      "Local process index: 0\n",
      "Device: cuda\n",
      "\n",
      "Mixed precision type: no\n",
      "\n",
      "You are using a model of type clip_text_model to instantiate a model of type . This is not supported for all configurations of models and can yield errors.\n",
      "{'prediction_type', 'clip_sample_range', 'thresholding', 'variance_type', 'dynamic_thresholding_ratio', 'sample_max_value'} was not found in config. Values will be initialized to default values.\n",
      "{'scaling_factor'} was not found in config. Values will be initialized to default values.\n",
      "{'upcast_attention', 'conv_in_kernel', 'time_cond_proj_dim', 'cross_attention_norm', 'encoder_hid_dim_type', 'class_embeddings_concat', 'only_cross_attention', 'mid_block_type', 'mid_block_only_cross_attention', 'num_class_embeds', 'addition_embed_type', 'encoder_hid_dim', 'projection_class_embeddings_input_dim', 'resnet_time_scale_shift', 'resnet_out_scale_factor', 'timestep_post_act', 'time_embedding_type', 'class_embed_type', 'time_embedding_dim', 'conv_out_kernel', 'addition_embed_type_num_heads', 'time_embedding_act_fn', 'resnet_skip_time_act'} was not found in config. Values will be initialized to default values.\n",
      "/opt/conda/envs/pytorch/lib/python3.9/site-packages/diffusers/models/attention_processor.py:204: UserWarning: You have specified using flash attention using xFormers but you have PyTorch 2.0 already installed. We will default to PyTorch's native efficient flash attention implementation (`F.scaled_dot_product_attention`) introduced in PyTorch 2.0. In case you are using LoRA or Custom Diffusion, we will fall back to their respective attention processors i.e., we will NOT use the PyTorch 2.0 native efficient flash attention.\n",
      "  warnings.warn(\n",
      "\n",
      "===================================BUG REPORT===================================\n",
      "Welcome to bitsandbytes. For bug reports, please run\n",
      "\n",
      "python -m bitsandbytes\n",
      "\n",
      " and submit this information together with your error trace to: https://github.com/TimDettmers/bitsandbytes/issues\n",
      "================================================================================\n",
      "bin /opt/conda/envs/pytorch/lib/python3.9/site-packages/bitsandbytes/libbitsandbytes_cuda117.so\n",
      "/opt/conda/envs/pytorch/lib/python3.9/site-packages/bitsandbytes/cuda_setup/main.py:149: UserWarning: Found duplicate ['libcudart.so', 'libcudart.so.11.0', 'libcudart.so.12.0'] files: {PosixPath('/opt/conda/envs/pytorch/lib/libcudart.so'), PosixPath('/opt/conda/envs/pytorch/lib/libcudart.so.11.0')}.. We'll flip a coin and try one of these, in order to fail forward.\n",
      "Either way, this might cause trouble in the future:\n",
      "If you get `CUDA error: invalid device function` errors, the above might be the cause and the solution is to make sure only one ['libcudart.so', 'libcudart.so.11.0', 'libcudart.so.12.0'] in the paths that we search based on your env.\n",
      "  warn(msg)\n",
      "CUDA SETUP: CUDA runtime path found: /opt/conda/envs/pytorch/lib/libcudart.so\n",
      "CUDA SETUP: Highest compute capability among GPUs detected: 7.5\n",
      "CUDA SETUP: Detected CUDA version 117\n",
      "CUDA SETUP: Loading binary /opt/conda/envs/pytorch/lib/python3.9/site-packages/bitsandbytes/libbitsandbytes_cuda117.so...\n",
      "06/07/2023 07:47:08 - INFO - __main__ - ***** Running training *****\n",
      "06/07/2023 07:47:08 - INFO - __main__ -   Num examples = 800\n",
      "06/07/2023 07:47:08 - INFO - __main__ -   Num batches each epoch = 400\n",
      "06/07/2023 07:47:08 - INFO - __main__ -   Num Epochs = 2\n",
      "06/07/2023 07:47:08 - INFO - __main__ -   Instantaneous batch size per device = 2\n",
      "06/07/2023 07:47:08 - INFO - __main__ -   Total train batch size (w. parallel, distributed & accumulation) = 2\n",
      "06/07/2023 07:47:08 - INFO - __main__ -   Gradient Accumulation steps = 1\n",
      "06/07/2023 07:47:08 - INFO - __main__ -   Total optimization steps = 520\n",
      "Steps:  96%|████████████▌| 500/520 [40:55<01:30,  4.53s/it, loss=0.146, lr=4e-7]06/07/2023 08:28:03 - INFO - accelerate.accelerator - Saving current state to ./dreambooth-out6/checkpoint-500\n",
      "Configuration saved in ./dreambooth-out6/checkpoint-500/unet/config.json\n",
      "Model weights saved in ./dreambooth-out6/checkpoint-500/unet/diffusion_pytorch_model.bin\n",
      "06/07/2023 08:29:05 - INFO - accelerate.checkpointing - Optimizer state saved in ./dreambooth-out6/checkpoint-500/optimizer.bin\n",
      "06/07/2023 08:29:05 - INFO - accelerate.checkpointing - Scheduler state saved in ./dreambooth-out6/checkpoint-500/scheduler.bin\n",
      "06/07/2023 08:29:05 - INFO - accelerate.checkpointing - Random states saved in ./dreambooth-out6/checkpoint-500/random_states_0.pkl\n",
      "06/07/2023 08:29:05 - INFO - __main__ - Saved state to ./dreambooth-out6/checkpoint-500\n",
      "Steps: 100%|█████████████| 520/520 [43:27<00:00,  4.57s/it, loss=0.241, lr=4e-7]{'prediction_type'} was not found in config. Values will be initialized to default values.\n",
      "{'scaling_factor'} was not found in config. Values will be initialized to default values.\n",
      "Configuration saved in ./dreambooth-out6/vae/config.json\n",
      "Model weights saved in ./dreambooth-out6/vae/diffusion_pytorch_model.bin\n",
      "Configuration saved in ./dreambooth-out6/unet/config.json\n",
      "Model weights saved in ./dreambooth-out6/unet/diffusion_pytorch_model.bin\n",
      "Configuration saved in ./dreambooth-out6/scheduler/scheduler_config.json\n",
      "Configuration saved in ./dreambooth-out6/model_index.json\n",
      "Steps: 100%|█████████████| 520/520 [44:11<00:00,  5.10s/it, loss=0.241, lr=4e-7]\n"
     ]
    }
   ],
   "source": [
    "# MODEL_NAME=\"CompVis/stable-diffusion-v1-4\"\n",
    "MODEL_NAME=\"stabilityai/stable-diffusion-2-base\"\n",
    "INSTANCE_DIR=\"./vanellopenew\"\n",
    "OUTPUT_DIR=\"./dreambooth-out6/\"\n",
    "CLASS_DIR=\"./dreambooth-classimg3/\"\n",
    "\n",
    "!accelerate launch train_dreambooth.py \\\n",
    "  --pretrained_model_name_or_path=$MODEL_NAME  \\\n",
    "  --train_text_encoder \\\n",
    "  --instance_data_dir=$INSTANCE_DIR \\\n",
    "  --output_dir=$OUTPUT_DIR \\\n",
    "  --instance_prompt=\"a photo of sks girl\" \\\n",
    "  --resolution=512 \\\n",
    "  --train_batch_size=2 \\\n",
    "  --gradient_accumulation_steps=1 --gradient_checkpointing \\\n",
    "  --learning_rate=4e-7 \\\n",
    "  --lr_scheduler=\"constant\" \\\n",
    "  --set_grads_to_none \\\n",
    "  --lr_warmup_steps=0 \\\n",
    "  --max_train_steps=520 \\\n",
    "  --enable_xformers_memory_efficient_attention \\\n",
    "  --use_8bit_adam \\\n",
    "  --class_data_dir=$CLASS_DIR \\\n",
    "  --with_prior_preservation --prior_loss_weight=1.0 \\\n",
    "  --class_prompt=\"a photo of girl\" \\\n",
    "  --num_class_images=800"
   ]
  },
  {
   "cell_type": "code",
   "execution_count": 13,
   "metadata": {},
   "outputs": [
    {
     "data": {
      "application/json": {
       "ascii": false,
       "bar_format": null,
       "colour": null,
       "elapsed": 0.00475621223449707,
       "initial": 0,
       "n": 0,
       "ncols": null,
       "nrows": null,
       "postfix": null,
       "prefix": "",
       "rate": null,
       "total": 50,
       "unit": "it",
       "unit_divisor": 1000,
       "unit_scale": false
      },
      "application/vnd.jupyter.widget-view+json": {
       "model_id": "e19246437b664c8fad69b1e9455179cf",
       "version_major": 2,
       "version_minor": 0
      },
      "text/plain": [
       "  0%|          | 0/50 [00:00<?, ?it/s]"
      ]
     },
     "metadata": {},
     "output_type": "display_data"
    }
   ],
   "source": [
    "from diffusers import DiffusionPipeline\n",
    "import torch\n",
    "torch.manual_seed(1286)\n",
    "\n",
    "model_id = \"./dreambooth-out4/\"\n",
    "pipe = DiffusionPipeline.from_pretrained(model_id, torch_dtype=torch.float16).to(\"cuda\")\n",
    "\n",
    "pipe.safety_checker = None\n",
    "\n",
    "prompt = \"a photo of sks girl going shopping\"\n",
    "image = pipe(prompt, num_inference_steps=50, guidance_scale=7.5).images[0]\n",
    "\n",
    "image.save(\"bed.png\")"
   ]
  },
  {
   "cell_type": "code",
   "execution_count": null,
   "metadata": {},
   "outputs": [],
   "source": []
  }
 ],
 "metadata": {
  "kernelspec": {
   "display_name": "pytorch",
   "language": "python",
   "name": "python3"
  },
  "language_info": {
   "codemirror_mode": {
    "name": "ipython",
    "version": 3
   },
   "file_extension": ".py",
   "mimetype": "text/x-python",
   "name": "python",
   "nbconvert_exporter": "python",
   "pygments_lexer": "ipython3",
   "version": "3.9.16"
  },
  "orig_nbformat": 4
 },
 "nbformat": 4,
 "nbformat_minor": 2
}
